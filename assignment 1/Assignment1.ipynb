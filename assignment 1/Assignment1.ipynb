{
    "metadata": {
        "kernelspec": {
            "name": "python3",
            "display_name": "Python 3 (ipykernel)",
            "language": "python"
        }
    },
    "nbformat": 4,
    "nbformat_minor": 2,
    "cells": [
        {
            "attachments": {},
            "cell_type": "markdown",
            "metadata": {},
            "source": [
                "Add your import statements and the database connection statements in the below code block\n",
                "\n",
                "Database file path = '/course/data/CSE-578/dinofunworld.db'"
            ]
        },
        {
            "cell_type": "code",
            "execution_count": 276,
            "metadata": {},
            "outputs": [],
            "source": [
                "#your code here\n",
                "import os\n",
                "import sqlite3\n",
                "import pandas as pd\n",
                "import math\n",
                "import warnings\n",
                "\n",
                "warnings.simplefilter(action='ignore', category=FutureWarning)\n",
                "#db_filename = 'dinofunworld.db'\n",
                "\n",
                "connection = sqlite3.connect('/course/data/CSE-578/dinofunworld.db')\n",
                "connection_cursor = connection.cursor()\n",
                ""
            ]
        },
        {
            "cell_type": "code",
            "execution_count": 277,
            "metadata": {},
            "outputs": [
                {
                    "name": "stdout",
                    "output_type": "stream",
                    "text": "/home\n"
                }
            ],
            "source": [
                "cwd = os.getcwd()\n",
                "print(cwd)"
            ]
        },
        {
            "attachments": {},
            "cell_type": "markdown",
            "metadata": {},
            "source": [
                "**Question 1:** \n",
                "\n",
                "What is the most popular attraction to visit in the park?\n",
                "\n",
                "**Note:** Your output should be the name of the attraction. Please print your output in the cell below."
            ]
        },
        {
            "cell_type": "code",
            "execution_count": 278,
            "metadata": {},
            "outputs": [
                {
                    "name": "stdout",
                    "output_type": "stream",
                    "text": "Atmosfear\n"
                }
            ],
            "source": [
                "### TEST FUNCTION: test_question1\n",
                "# DO NOT REMOVE THE LINE ABOVE\n",
                "# your code here\n",
                "\n",
                "sql_query = \"SELECT attraction, COUNT(*) as c FROM checkin GROUP BY attraction ORDER BY c desc;\"\n",
                "connection_cursor.execute(sql_query)\n",
                "popular_attraction_id = connection_cursor.fetchall() [0][0] # get the top first result in JSON format returned data  \n",
                "#print(popular_attraction_id)\n",
                "connection_cursor.execute(\"SELECT Name FROM attraction where AttractionID = {};\".format(popular_attraction_id))\n",
                "\n",
                "popular_attraction = connection_cursor.fetchone()[0] \n",
                "print(popular_attraction)"
            ]
        },
        {
            "attachments": {},
            "cell_type": "markdown",
            "metadata": {},
            "source": [
                "**Question 2:** \n",
                "\n",
                "What ride (note that not all attractions are rides) has the second longest average visit time?\n",
                "\n",
                "**Note:** Your output should be the name of the ride. Please print your output in the cell below.\n",
                ""
            ]
        },
        {
            "cell_type": "code",
            "execution_count": 279,
            "metadata": {},
            "outputs": [
                {
                    "name": "stdout",
                    "output_type": "stream",
                    "text": "Flight of the Swingodon\n"
                }
            ],
            "source": [
                "### TEST FUNCTION: test_question2\n",
                "# DO NOT REMOVE THE LINE ABOVE\n",
                "# your code here\n",
                "\n",
                "checkin_df = pd.read_sql_query(\"SELECT * FROM checkin;\", connection)\n",
                "checkin_df['total_seconds'] = pd.to_timedelta(checkin_df['duration']).astype('timedelta64[s]')\n",
                "attraction_df = pd.read_sql_query(\"SELECT * FROM attraction WHERE Category LIKE '%Ride%';\", connection)\n",
                "attraction_df = attraction_df[['AttractionID','Name']]\n",
                "merge_df = checkin_df[['attraction','total_seconds']].merge(attraction_df,left_on=['attraction'],right_on=['AttractionID'])\n",
                "mean_df = merge_df.groupby('Name', as_index=False)['total_seconds'].mean()\n",
                "sorted_df = mean_df.sort_values(['total_seconds'], ascending=[False])\n",
                "#print(sorted_df)\n",
                "#print(\"Flight of the Swingodon\") #correct after analysis of the result of the previous print statement\n",
                "nameOfTheSecondLargestRide = sorted_df.iloc[1][\"Name\"]  # Use .iloc with double brackets to extract a DataFrame such as a row by the row index, then choose which attribute data you want to extrace\n",
                "\n",
                "print(nameOfTheSecondLargestRide)\n",
                "\n",
                "\n",
                ""
            ]
        },
        {
            "cell_type": "code",
            "execution_count": 280,
            "metadata": {},
            "outputs": [
                {
                    "name": "stdout",
                    "output_type": "stream",
                    "text": "                         Name  total_seconds\n28                 TerrorSaur    2800.744916\n9     Flight of the Swingodon    2554.466911\n29          Wendisaurus Chase    2396.099480\n8                    Firefall    2344.322285\n19                 North Line    1883.432584\n24            Scholtz Express    1833.786246\n12      Ichthyoroberts Rapids    1236.028317\n20       Paleocarrie Carousel     880.743336\n1          Auvilotops Express     856.566010\n13            Jeredactyl Jump     702.924980\n23            Sauroma Bumpers     687.477351\n21                Raptor Race     677.925357\n0                   Atmosfear     676.001117\n15  Kauf's Lost Canyon Escape     638.298429\n17          Kristanodon Kaper     600.874934\n10       Flying TyrAndrienkos     584.407692\n2                  Beelzebufo     521.010093\n18           Maiasaur Madness     513.085647\n25                 Squidosaur     505.466482\n14              Jurassic Road     496.630620\n6        Eberlesaurus Roundup     467.812758\n22        Rhynasaurus Rampage     453.046266\n16       Keimosaurus Big Spin     385.859066\n30         Wild Jungle Cruise     375.153406\n4        Cyndisaurus Asteroid     362.201761\n7        Enchanted Toadstools     357.795086\n27                 Stone Cups     355.043075\n26                Stegocycles     339.216306\n3              Blue Iguanodon     338.767466\n11         Galactosaurus Rage     288.397552\n31     Wrightiraptor Mountain     269.476471\n5         Dykesadactyl Thrill     254.204708\n"
                }
            ],
            "source": [
                "print(sorted_df) # view the sorted descending datafram of the average of seconds"
            ]
        },
        {
            "attachments": {},
            "cell_type": "markdown",
            "metadata": {},
            "source": [
                "**Question 3:** \n",
                "\n",
                "Which Fast Food offering in the park has the fewest visitors?\n",
                "\n",
                "**Note:** Your output should be the name of the fast food offering. Please print your output in the cell below."
            ]
        },
        {
            "cell_type": "code",
            "execution_count": 281,
            "metadata": {},
            "outputs": [
                {
                    "name": "stdout",
                    "output_type": "stream",
                    "text": "Theresaur Food Stop\n"
                }
            ],
            "source": [
                "### TEST FUNCTION: test_question3\n",
                "# DO NOT REMOVE THE LINE ABOVE\n",
                "# your code here\n",
                "\n",
                "\n",
                "checkin_df = pd.read_sql_query(\"SELECT * FROM checkin\", connection)\n",
                "attraction_df = pd.read_sql_query(\"SELECT * FROM attraction WHERE type LIKE '%Fast Food%'\", connection)\n",
                "merge_df = checkin_df[['visitorID','attraction']].merge(attraction_df[['Name','AttractionID']],left_on=['attraction'],right_on=['AttractionID'])\n",
                "final_df = merge_df.groupby(['Name']).size().reset_index(name='counts')\n",
                "fast_food_with_fewest_visitors = final_df.iloc[final_df.counts.argmin()]['Name']\n",
                "print(fast_food_with_fewest_visitors)"
            ]
        }
    ]
}
